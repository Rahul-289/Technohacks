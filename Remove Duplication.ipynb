{
 "cells": [
  {
   "cell_type": "code",
   "execution_count": 1,
   "id": "12b38efd",
   "metadata": {},
   "outputs": [
    {
     "name": "stdout",
     "output_type": "stream",
     "text": [
      "Original Dataset:\n",
      "     Unnamed: 0                  Player  Base Price         TYPE  \\\n",
      "0             0             Rashid Khan  Draft Pick       BOWLER   \n",
      "1             1           Hardik Pandya  Draft Pick  ALL-ROUNDER   \n",
      "2             2         Lockie Ferguson        2 Cr       BOWLER   \n",
      "3             3           Rahul Tewatia     40 Lakh  ALL-ROUNDER   \n",
      "4             4            Shubman Gill  Draft Pick       BATTER   \n",
      "..          ...                     ...         ...          ...   \n",
      "628         628            Sairaj Patil     20 Lakh       BATTER   \n",
      "629         629              Monu Singh     20 Lakh       BOWLER   \n",
      "630         630  Nivethan Radhakrishnan     20 Lakh       BOWLER   \n",
      "631         631            Lance Morris     20 Lakh       BOWLER   \n",
      "632         632            Aaron Hardie     20 Lakh  ALL-ROUNDER   \n",
      "\n",
      "     COST IN ₹ (CR.)  Cost IN $ (000) 2021 Squad            Team  \n",
      "0               15.0           1950.0        SRH  Gujarat Titans  \n",
      "1               15.0           1950.0         MI  Gujarat Titans  \n",
      "2               10.0           1300.0        KKR  Gujarat Titans  \n",
      "3                9.0           1170.0         RR  Gujarat Titans  \n",
      "4                8.0           1040.0        KKR  Gujarat Titans  \n",
      "..               ...              ...        ...             ...  \n",
      "628              NaN              NaN        NaN          Unsold  \n",
      "629              NaN              NaN        NaN          Unsold  \n",
      "630              NaN              NaN        NaN          Unsold  \n",
      "631              NaN              NaN        NaN          Unsold  \n",
      "632              NaN              NaN        NaN          Unsold  \n",
      "\n",
      "[633 rows x 8 columns]\n",
      "\n",
      "Dataset after removing duplicates:\n",
      "     Unnamed: 0                  Player  Base Price         TYPE  \\\n",
      "0             0             Rashid Khan  Draft Pick       BOWLER   \n",
      "1             1           Hardik Pandya  Draft Pick  ALL-ROUNDER   \n",
      "2             2         Lockie Ferguson        2 Cr       BOWLER   \n",
      "3             3           Rahul Tewatia     40 Lakh  ALL-ROUNDER   \n",
      "4             4            Shubman Gill  Draft Pick       BATTER   \n",
      "..          ...                     ...         ...          ...   \n",
      "628         628            Sairaj Patil     20 Lakh       BATTER   \n",
      "629         629              Monu Singh     20 Lakh       BOWLER   \n",
      "630         630  Nivethan Radhakrishnan     20 Lakh       BOWLER   \n",
      "631         631            Lance Morris     20 Lakh       BOWLER   \n",
      "632         632            Aaron Hardie     20 Lakh  ALL-ROUNDER   \n",
      "\n",
      "     COST IN ₹ (CR.)  Cost IN $ (000) 2021 Squad            Team  \n",
      "0               15.0           1950.0        SRH  Gujarat Titans  \n",
      "1               15.0           1950.0         MI  Gujarat Titans  \n",
      "2               10.0           1300.0        KKR  Gujarat Titans  \n",
      "3                9.0           1170.0         RR  Gujarat Titans  \n",
      "4                8.0           1040.0        KKR  Gujarat Titans  \n",
      "..               ...              ...        ...             ...  \n",
      "628              NaN              NaN        NaN          Unsold  \n",
      "629              NaN              NaN        NaN          Unsold  \n",
      "630              NaN              NaN        NaN          Unsold  \n",
      "631              NaN              NaN        NaN          Unsold  \n",
      "632              NaN              NaN        NaN          Unsold  \n",
      "\n",
      "[633 rows x 8 columns]\n"
     ]
    }
   ],
   "source": [
    "import pandas as pd\n",
    "\n",
    "# File path to your CSV dataset\n",
    "file_path = r'C:\\Users\\LENOVO\\Downloads\\ipl_2022_dataset.csv'\n",
    "\n",
    "# Load the dataset into a DataFrame\n",
    "df = pd.read_csv(file_path)\n",
    "\n",
    "# Display the original dataset\n",
    "print(\"Original Dataset:\")\n",
    "print(df)\n",
    "\n",
    "# Identify and remove duplicate rows based on all columns\n",
    "df_no_duplicates = df.drop_duplicates()\n",
    "\n",
    "# Display the dataset after removing duplicates\n",
    "print(\"\\nDataset after removing duplicates:\")\n",
    "print(df_no_duplicates)\n"
   ]
  },
  {
   "cell_type": "code",
   "execution_count": null,
   "id": "7f13cdcb",
   "metadata": {},
   "outputs": [],
   "source": []
  }
 ],
 "metadata": {
  "kernelspec": {
   "display_name": "Python 3 (ipykernel)",
   "language": "python",
   "name": "python3"
  },
  "language_info": {
   "codemirror_mode": {
    "name": "ipython",
    "version": 3
   },
   "file_extension": ".py",
   "mimetype": "text/x-python",
   "name": "python",
   "nbconvert_exporter": "python",
   "pygments_lexer": "ipython3",
   "version": "3.11.4"
  }
 },
 "nbformat": 4,
 "nbformat_minor": 5
}
